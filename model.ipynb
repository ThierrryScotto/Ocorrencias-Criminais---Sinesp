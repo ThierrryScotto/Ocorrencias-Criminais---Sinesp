{
 "cells": [
  {
   "attachments": {},
   "cell_type": "markdown",
   "metadata": {
    "slideshow": {
     "slide_type": "subslide"
    }
   },
   "source": [
    "# Importing the libraries"
   ]
  },
  {
   "cell_type": "code",
   "execution_count": 115,
   "metadata": {},
   "outputs": [],
   "source": [
    "import datetime\n",
    "import pandas as pd\n",
    "import numpy as np\n",
    "import matplotlib.pyplot as plt\n",
    "\n",
    "from statsmodels.tsa.ar_model import AutoReg\n",
    "from statsmodels.tsa.stattools import adfuller\n",
    "from statsmodels.tsa.arima.model import ARIMA\n",
    "from sklearn.metrics import mean_squared_error\n",
    "from statsmodels.tsa.holtwinters import SimpleExpSmoothing\n",
    "from statsmodels.tsa.seasonal import STL, seasonal_decompose\n",
    "from statsmodels.graphics.tsaplots import plot_acf, plot_pacf"
   ]
  },
  {
   "attachments": {},
   "cell_type": "markdown",
   "metadata": {},
   "source": [
    "# Getting the data"
   ]
  },
  {
   "cell_type": "code",
   "execution_count": 116,
   "metadata": {},
   "outputs": [
    {
     "data": {
      "text/html": [
       "<div>\n",
       "<style scoped>\n",
       "    .dataframe tbody tr th:only-of-type {\n",
       "        vertical-align: middle;\n",
       "    }\n",
       "\n",
       "    .dataframe tbody tr th {\n",
       "        vertical-align: top;\n",
       "    }\n",
       "\n",
       "    .dataframe thead th {\n",
       "        text-align: right;\n",
       "    }\n",
       "</style>\n",
       "<table border=\"1\" class=\"dataframe\">\n",
       "  <thead>\n",
       "    <tr style=\"text-align: right;\">\n",
       "      <th></th>\n",
       "      <th>UF</th>\n",
       "      <th>Tipo Crime</th>\n",
       "      <th>Ano</th>\n",
       "      <th>Mês</th>\n",
       "      <th>Ocorrências</th>\n",
       "    </tr>\n",
       "  </thead>\n",
       "  <tbody>\n",
       "    <tr>\n",
       "      <th>0</th>\n",
       "      <td>Acre</td>\n",
       "      <td>Estupro</td>\n",
       "      <td>2022</td>\n",
       "      <td>janeiro</td>\n",
       "      <td>31</td>\n",
       "    </tr>\n",
       "    <tr>\n",
       "      <th>1</th>\n",
       "      <td>Acre</td>\n",
       "      <td>Furto de veículo</td>\n",
       "      <td>2022</td>\n",
       "      <td>janeiro</td>\n",
       "      <td>50</td>\n",
       "    </tr>\n",
       "    <tr>\n",
       "      <th>2</th>\n",
       "      <td>Acre</td>\n",
       "      <td>Homicídio doloso</td>\n",
       "      <td>2022</td>\n",
       "      <td>janeiro</td>\n",
       "      <td>10</td>\n",
       "    </tr>\n",
       "    <tr>\n",
       "      <th>3</th>\n",
       "      <td>Acre</td>\n",
       "      <td>Lesão corporal seguida de morte</td>\n",
       "      <td>2022</td>\n",
       "      <td>janeiro</td>\n",
       "      <td>1</td>\n",
       "    </tr>\n",
       "    <tr>\n",
       "      <th>4</th>\n",
       "      <td>Acre</td>\n",
       "      <td>Roubo a instituição financeira</td>\n",
       "      <td>2022</td>\n",
       "      <td>janeiro</td>\n",
       "      <td>0</td>\n",
       "    </tr>\n",
       "  </tbody>\n",
       "</table>\n",
       "</div>"
      ],
      "text/plain": [
       "     UF                       Tipo Crime   Ano      Mês  Ocorrências\n",
       "0  Acre                          Estupro  2022  janeiro           31\n",
       "1  Acre                 Furto de veículo  2022  janeiro           50\n",
       "2  Acre                 Homicídio doloso  2022  janeiro           10\n",
       "3  Acre  Lesão corporal seguida de morte  2022  janeiro            1\n",
       "4  Acre   Roubo a instituição financeira  2022  janeiro            0"
      ]
     },
     "execution_count": 116,
     "metadata": {},
     "output_type": "execute_result"
    }
   ],
   "source": [
    "dataset = pd.read_excel('indicadoressegurancapublicauf.xlsx')\n",
    "dataset.head(5)"
   ]
  },
  {
   "cell_type": "code",
   "execution_count": 117,
   "metadata": {},
   "outputs": [
    {
     "data": {
      "text/plain": [
       "Index(['State', 'Crime', 'Year', 'Month', 'Occurrences'], dtype='object')"
      ]
     },
     "execution_count": 117,
     "metadata": {},
     "output_type": "execute_result"
    }
   ],
   "source": [
    "dataset.rename(columns={\n",
    "  'UF': 'State', \n",
    "  'Tipo Crime': 'Crime',\n",
    "  'Ano': 'Year',\n",
    "  'Mês': 'Month',\n",
    "  'Ocorrências': 'Occurrences'\n",
    "  }, inplace=True)\n",
    "\n",
    "dataset.columns"
   ]
  },
  {
   "attachments": {},
   "cell_type": "markdown",
   "metadata": {},
   "source": [
    "# Data Preparation"
   ]
  },
  {
   "cell_type": "code",
   "execution_count": 118,
   "metadata": {},
   "outputs": [],
   "source": [
    "STATE = 'Rio Grande do Sul'"
   ]
  },
  {
   "cell_type": "code",
   "execution_count": 119,
   "metadata": {},
   "outputs": [
    {
     "name": "stdout",
     "output_type": "stream",
     "text": [
      "<class 'pandas.core.frame.DataFrame'>\n",
      "RangeIndex: 23020 entries, 0 to 23019\n",
      "Data columns (total 5 columns):\n",
      " #   Column       Non-Null Count  Dtype \n",
      "---  ------       --------------  ----- \n",
      " 0   State        23020 non-null  object\n",
      " 1   Crime        23020 non-null  object\n",
      " 2   Year         23020 non-null  int64 \n",
      " 3   Month        23020 non-null  object\n",
      " 4   Occurrences  23020 non-null  int64 \n",
      "dtypes: int64(2), object(3)\n",
      "memory usage: 899.3+ KB\n"
     ]
    }
   ],
   "source": [
    "dataset.info()"
   ]
  },
  {
   "cell_type": "code",
   "execution_count": 120,
   "metadata": {},
   "outputs": [
    {
     "data": {
      "text/plain": [
       "(23020, 5)"
      ]
     },
     "execution_count": 120,
     "metadata": {},
     "output_type": "execute_result"
    }
   ],
   "source": [
    "dataset.shape"
   ]
  },
  {
   "cell_type": "code",
   "execution_count": 121,
   "metadata": {},
   "outputs": [
    {
     "data": {
      "text/plain": [
       "Index(['State', 'Crime', 'Year', 'Month', 'Occurrences'], dtype='object')"
      ]
     },
     "execution_count": 121,
     "metadata": {},
     "output_type": "execute_result"
    }
   ],
   "source": [
    "dataset.columns"
   ]
  },
  {
   "cell_type": "code",
   "execution_count": 122,
   "metadata": {},
   "outputs": [
    {
     "data": {
      "text/plain": [
       "State          0\n",
       "Crime          0\n",
       "Year           0\n",
       "Month          0\n",
       "Occurrences    0\n",
       "dtype: int64"
      ]
     },
     "execution_count": 122,
     "metadata": {},
     "output_type": "execute_result"
    }
   ],
   "source": [
    "dataset.isnull().sum()"
   ]
  },
  {
   "cell_type": "code",
   "execution_count": 123,
   "metadata": {},
   "outputs": [
    {
     "data": {
      "text/plain": [
       "State          0\n",
       "Crime          0\n",
       "Year           0\n",
       "Month          0\n",
       "Occurrences    0\n",
       "dtype: int64"
      ]
     },
     "execution_count": 123,
     "metadata": {},
     "output_type": "execute_result"
    }
   ],
   "source": [
    "dataset.isnull().sum()"
   ]
  },
  {
   "cell_type": "code",
   "execution_count": 124,
   "metadata": {},
   "outputs": [
    {
     "data": {
      "text/html": [
       "<div>\n",
       "<style scoped>\n",
       "    .dataframe tbody tr th:only-of-type {\n",
       "        vertical-align: middle;\n",
       "    }\n",
       "\n",
       "    .dataframe tbody tr th {\n",
       "        vertical-align: top;\n",
       "    }\n",
       "\n",
       "    .dataframe thead th {\n",
       "        text-align: right;\n",
       "    }\n",
       "</style>\n",
       "<table border=\"1\" class=\"dataframe\">\n",
       "  <thead>\n",
       "    <tr style=\"text-align: right;\">\n",
       "      <th></th>\n",
       "      <th>State</th>\n",
       "      <th>Crime</th>\n",
       "      <th>Year</th>\n",
       "      <th>Month</th>\n",
       "      <th>Occurrences</th>\n",
       "    </tr>\n",
       "  </thead>\n",
       "  <tbody>\n",
       "    <tr>\n",
       "      <th>2081</th>\n",
       "      <td>Rio Grande do Sul</td>\n",
       "      <td>Estupro</td>\n",
       "      <td>2022</td>\n",
       "      <td>janeiro</td>\n",
       "      <td>408</td>\n",
       "    </tr>\n",
       "    <tr>\n",
       "      <th>2082</th>\n",
       "      <td>Rio Grande do Sul</td>\n",
       "      <td>Furto de veículo</td>\n",
       "      <td>2022</td>\n",
       "      <td>janeiro</td>\n",
       "      <td>708</td>\n",
       "    </tr>\n",
       "    <tr>\n",
       "      <th>2083</th>\n",
       "      <td>Rio Grande do Sul</td>\n",
       "      <td>Homicídio doloso</td>\n",
       "      <td>2022</td>\n",
       "      <td>janeiro</td>\n",
       "      <td>141</td>\n",
       "    </tr>\n",
       "    <tr>\n",
       "      <th>2084</th>\n",
       "      <td>Rio Grande do Sul</td>\n",
       "      <td>Lesão corporal seguida de morte</td>\n",
       "      <td>2022</td>\n",
       "      <td>janeiro</td>\n",
       "      <td>3</td>\n",
       "    </tr>\n",
       "    <tr>\n",
       "      <th>2085</th>\n",
       "      <td>Rio Grande do Sul</td>\n",
       "      <td>Roubo a instituição financeira</td>\n",
       "      <td>2022</td>\n",
       "      <td>janeiro</td>\n",
       "      <td>0</td>\n",
       "    </tr>\n",
       "    <tr>\n",
       "      <th>...</th>\n",
       "      <td>...</td>\n",
       "      <td>...</td>\n",
       "      <td>...</td>\n",
       "      <td>...</td>\n",
       "      <td>...</td>\n",
       "    </tr>\n",
       "    <tr>\n",
       "      <th>22379</th>\n",
       "      <td>Rio Grande do Sul</td>\n",
       "      <td>Roubo a instituição financeira</td>\n",
       "      <td>2015</td>\n",
       "      <td>dezembro</td>\n",
       "      <td>8</td>\n",
       "    </tr>\n",
       "    <tr>\n",
       "      <th>22380</th>\n",
       "      <td>Rio Grande do Sul</td>\n",
       "      <td>Roubo de carga</td>\n",
       "      <td>2015</td>\n",
       "      <td>dezembro</td>\n",
       "      <td>28</td>\n",
       "    </tr>\n",
       "    <tr>\n",
       "      <th>22381</th>\n",
       "      <td>Rio Grande do Sul</td>\n",
       "      <td>Roubo de veículo</td>\n",
       "      <td>2015</td>\n",
       "      <td>dezembro</td>\n",
       "      <td>1520</td>\n",
       "    </tr>\n",
       "    <tr>\n",
       "      <th>22382</th>\n",
       "      <td>Rio Grande do Sul</td>\n",
       "      <td>Roubo seguido de morte (latrocínio)</td>\n",
       "      <td>2015</td>\n",
       "      <td>dezembro</td>\n",
       "      <td>11</td>\n",
       "    </tr>\n",
       "    <tr>\n",
       "      <th>22383</th>\n",
       "      <td>Rio Grande do Sul</td>\n",
       "      <td>Tentativa de homicídio</td>\n",
       "      <td>2015</td>\n",
       "      <td>dezembro</td>\n",
       "      <td>404</td>\n",
       "    </tr>\n",
       "  </tbody>\n",
       "</table>\n",
       "<p>864 rows × 5 columns</p>\n",
       "</div>"
      ],
      "text/plain": [
       "                   State  ... Occurrences\n",
       "2081   Rio Grande do Sul  ...         408\n",
       "2082   Rio Grande do Sul  ...         708\n",
       "2083   Rio Grande do Sul  ...         141\n",
       "2084   Rio Grande do Sul  ...           3\n",
       "2085   Rio Grande do Sul  ...           0\n",
       "...                  ...  ...         ...\n",
       "22379  Rio Grande do Sul  ...           8\n",
       "22380  Rio Grande do Sul  ...          28\n",
       "22381  Rio Grande do Sul  ...        1520\n",
       "22382  Rio Grande do Sul  ...          11\n",
       "22383  Rio Grande do Sul  ...         404\n",
       "\n",
       "[864 rows x 5 columns]"
      ]
     },
     "execution_count": 124,
     "metadata": {},
     "output_type": "execute_result"
    }
   ],
   "source": [
    "dataset[dataset['State'] == STATE]"
   ]
  },
  {
   "cell_type": "code",
   "execution_count": 125,
   "metadata": {},
   "outputs": [
    {
     "data": {
      "text/html": [
       "<div>\n",
       "<style scoped>\n",
       "    .dataframe tbody tr th:only-of-type {\n",
       "        vertical-align: middle;\n",
       "    }\n",
       "\n",
       "    .dataframe tbody tr th {\n",
       "        vertical-align: top;\n",
       "    }\n",
       "\n",
       "    .dataframe thead th {\n",
       "        text-align: right;\n",
       "    }\n",
       "</style>\n",
       "<table border=\"1\" class=\"dataframe\">\n",
       "  <thead>\n",
       "    <tr style=\"text-align: right;\">\n",
       "      <th></th>\n",
       "      <th>State</th>\n",
       "      <th>Crime</th>\n",
       "      <th>Year</th>\n",
       "      <th>Month</th>\n",
       "      <th>Occurrences</th>\n",
       "    </tr>\n",
       "  </thead>\n",
       "  <tbody>\n",
       "    <tr>\n",
       "      <th>2081</th>\n",
       "      <td>Rio Grande do Sul</td>\n",
       "      <td>Estupro</td>\n",
       "      <td>2022</td>\n",
       "      <td>janeiro</td>\n",
       "      <td>408</td>\n",
       "    </tr>\n",
       "    <tr>\n",
       "      <th>2082</th>\n",
       "      <td>Rio Grande do Sul</td>\n",
       "      <td>Furto de veículo</td>\n",
       "      <td>2022</td>\n",
       "      <td>janeiro</td>\n",
       "      <td>708</td>\n",
       "    </tr>\n",
       "    <tr>\n",
       "      <th>2083</th>\n",
       "      <td>Rio Grande do Sul</td>\n",
       "      <td>Homicídio doloso</td>\n",
       "      <td>2022</td>\n",
       "      <td>janeiro</td>\n",
       "      <td>141</td>\n",
       "    </tr>\n",
       "    <tr>\n",
       "      <th>2084</th>\n",
       "      <td>Rio Grande do Sul</td>\n",
       "      <td>Lesão corporal seguida de morte</td>\n",
       "      <td>2022</td>\n",
       "      <td>janeiro</td>\n",
       "      <td>3</td>\n",
       "    </tr>\n",
       "    <tr>\n",
       "      <th>2085</th>\n",
       "      <td>Rio Grande do Sul</td>\n",
       "      <td>Roubo a instituição financeira</td>\n",
       "      <td>2022</td>\n",
       "      <td>janeiro</td>\n",
       "      <td>0</td>\n",
       "    </tr>\n",
       "  </tbody>\n",
       "</table>\n",
       "</div>"
      ],
      "text/plain": [
       "                  State                            Crime  ...    Month Occurrences\n",
       "2081  Rio Grande do Sul                          Estupro  ...  janeiro         408\n",
       "2082  Rio Grande do Sul                 Furto de veículo  ...  janeiro         708\n",
       "2083  Rio Grande do Sul                 Homicídio doloso  ...  janeiro         141\n",
       "2084  Rio Grande do Sul  Lesão corporal seguida de morte  ...  janeiro           3\n",
       "2085  Rio Grande do Sul   Roubo a instituição financeira  ...  janeiro           0\n",
       "\n",
       "[5 rows x 5 columns]"
      ]
     },
     "execution_count": 125,
     "metadata": {},
     "output_type": "execute_result"
    }
   ],
   "source": [
    "state_dataset = dataset[dataset['State'] == STATE]\n",
    "state_dataset.head(5)"
   ]
  },
  {
   "cell_type": "code",
   "execution_count": 126,
   "metadata": {},
   "outputs": [
    {
     "name": "stderr",
     "output_type": "stream",
     "text": [
      "c:\\Users\\thier\\anaconda3\\lib\\site-packages\\pandas\\core\\indexing.py:1817: SettingWithCopyWarning: \n",
      "A value is trying to be set on a copy of a slice from a DataFrame.\n",
      "Try using .loc[row_indexer,col_indexer] = value instead\n",
      "\n",
      "See the caveats in the documentation: https://pandas.pydata.org/pandas-docs/stable/user_guide/indexing.html#returning-a-view-versus-a-copy\n",
      "  self._setitem_single_column(loc, value, pi)\n"
     ]
    },
    {
     "data": {
      "text/html": [
       "<div>\n",
       "<style scoped>\n",
       "    .dataframe tbody tr th:only-of-type {\n",
       "        vertical-align: middle;\n",
       "    }\n",
       "\n",
       "    .dataframe tbody tr th {\n",
       "        vertical-align: top;\n",
       "    }\n",
       "\n",
       "    .dataframe thead th {\n",
       "        text-align: right;\n",
       "    }\n",
       "</style>\n",
       "<table border=\"1\" class=\"dataframe\">\n",
       "  <thead>\n",
       "    <tr style=\"text-align: right;\">\n",
       "      <th></th>\n",
       "      <th>State</th>\n",
       "      <th>Crime</th>\n",
       "      <th>Year</th>\n",
       "      <th>Month</th>\n",
       "      <th>Occurrences</th>\n",
       "    </tr>\n",
       "  </thead>\n",
       "  <tbody>\n",
       "    <tr>\n",
       "      <th>2081</th>\n",
       "      <td>RS</td>\n",
       "      <td>Estupro</td>\n",
       "      <td>2022</td>\n",
       "      <td>janeiro</td>\n",
       "      <td>408</td>\n",
       "    </tr>\n",
       "    <tr>\n",
       "      <th>2082</th>\n",
       "      <td>RS</td>\n",
       "      <td>Furto de veículo</td>\n",
       "      <td>2022</td>\n",
       "      <td>janeiro</td>\n",
       "      <td>708</td>\n",
       "    </tr>\n",
       "    <tr>\n",
       "      <th>2083</th>\n",
       "      <td>RS</td>\n",
       "      <td>Homicídio doloso</td>\n",
       "      <td>2022</td>\n",
       "      <td>janeiro</td>\n",
       "      <td>141</td>\n",
       "    </tr>\n",
       "    <tr>\n",
       "      <th>2084</th>\n",
       "      <td>RS</td>\n",
       "      <td>Lesão corporal seguida de morte</td>\n",
       "      <td>2022</td>\n",
       "      <td>janeiro</td>\n",
       "      <td>3</td>\n",
       "    </tr>\n",
       "    <tr>\n",
       "      <th>2085</th>\n",
       "      <td>RS</td>\n",
       "      <td>Roubo a instituição financeira</td>\n",
       "      <td>2022</td>\n",
       "      <td>janeiro</td>\n",
       "      <td>0</td>\n",
       "    </tr>\n",
       "    <tr>\n",
       "      <th>...</th>\n",
       "      <td>...</td>\n",
       "      <td>...</td>\n",
       "      <td>...</td>\n",
       "      <td>...</td>\n",
       "      <td>...</td>\n",
       "    </tr>\n",
       "    <tr>\n",
       "      <th>22379</th>\n",
       "      <td>RS</td>\n",
       "      <td>Roubo a instituição financeira</td>\n",
       "      <td>2015</td>\n",
       "      <td>dezembro</td>\n",
       "      <td>8</td>\n",
       "    </tr>\n",
       "    <tr>\n",
       "      <th>22380</th>\n",
       "      <td>RS</td>\n",
       "      <td>Roubo de carga</td>\n",
       "      <td>2015</td>\n",
       "      <td>dezembro</td>\n",
       "      <td>28</td>\n",
       "    </tr>\n",
       "    <tr>\n",
       "      <th>22381</th>\n",
       "      <td>RS</td>\n",
       "      <td>Roubo de veículo</td>\n",
       "      <td>2015</td>\n",
       "      <td>dezembro</td>\n",
       "      <td>1520</td>\n",
       "    </tr>\n",
       "    <tr>\n",
       "      <th>22382</th>\n",
       "      <td>RS</td>\n",
       "      <td>Roubo seguido de morte (latrocínio)</td>\n",
       "      <td>2015</td>\n",
       "      <td>dezembro</td>\n",
       "      <td>11</td>\n",
       "    </tr>\n",
       "    <tr>\n",
       "      <th>22383</th>\n",
       "      <td>RS</td>\n",
       "      <td>Tentativa de homicídio</td>\n",
       "      <td>2015</td>\n",
       "      <td>dezembro</td>\n",
       "      <td>404</td>\n",
       "    </tr>\n",
       "  </tbody>\n",
       "</table>\n",
       "<p>864 rows × 5 columns</p>\n",
       "</div>"
      ],
      "text/plain": [
       "      State                                Crime  Year     Month  Occurrences\n",
       "2081     RS                              Estupro  2022   janeiro          408\n",
       "2082     RS                     Furto de veículo  2022   janeiro          708\n",
       "2083     RS                     Homicídio doloso  2022   janeiro          141\n",
       "2084     RS      Lesão corporal seguida de morte  2022   janeiro            3\n",
       "2085     RS       Roubo a instituição financeira  2022   janeiro            0\n",
       "...     ...                                  ...   ...       ...          ...\n",
       "22379    RS       Roubo a instituição financeira  2015  dezembro            8\n",
       "22380    RS                       Roubo de carga  2015  dezembro           28\n",
       "22381    RS                     Roubo de veículo  2015  dezembro         1520\n",
       "22382    RS  Roubo seguido de morte (latrocínio)  2015  dezembro           11\n",
       "22383    RS               Tentativa de homicídio  2015  dezembro          404\n",
       "\n",
       "[864 rows x 5 columns]"
      ]
     },
     "execution_count": 126,
     "metadata": {},
     "output_type": "execute_result"
    }
   ],
   "source": [
    "state_dataset.loc[:,'State'] = 'RS'\n",
    "state_dataset"
   ]
  },
  {
   "attachments": {},
   "cell_type": "markdown",
   "metadata": {},
   "source": [
    "### Converting month from str to int"
   ]
  },
  {
   "cell_type": "code",
   "execution_count": 127,
   "metadata": {},
   "outputs": [
    {
     "data": {
      "text/plain": [
       "array(['janeiro', 'fevereiro', 'março', 'abril', 'maio', 'junho', 'julho',\n",
       "       'agosto', 'setembro', 'outubro', 'novembro', 'dezembro'],\n",
       "      dtype=object)"
      ]
     },
     "execution_count": 127,
     "metadata": {},
     "output_type": "execute_result"
    }
   ],
   "source": [
    "state_dataset['Month'].unique()"
   ]
  },
  {
   "cell_type": "code",
   "execution_count": 128,
   "metadata": {},
   "outputs": [],
   "source": [
    "month_dic = { \n",
    " 'janeiro': 1,\n",
    " 'fevereiro': 2,\n",
    " 'março': 3,\n",
    " 'abril': 4,\n",
    " 'maio': 5,\n",
    " 'junho': 6,\n",
    " 'julho': 7,\n",
    " 'agosto': 8,\n",
    " 'setembro': 9,\n",
    " 'outubro': 10,\n",
    " 'novembro': 11,\n",
    " 'dezembro': 12\n",
    "}"
   ]
  },
  {
   "cell_type": "code",
   "execution_count": 129,
   "metadata": {},
   "outputs": [
    {
     "name": "stderr",
     "output_type": "stream",
     "text": [
      "C:/Users/thier/AppData/Local/Temp/xpython_13416/1514361170.py:1: SettingWithCopyWarning: \n",
      "A value is trying to be set on a copy of a slice from a DataFrame.\n",
      "Try using .loc[row_indexer,col_indexer] = value instead\n",
      "\n",
      "See the caveats in the documentation: https://pandas.pydata.org/pandas-docs/stable/user_guide/indexing.html#returning-a-view-versus-a-copy\n"
     ]
    },
    {
     "data": {
      "text/plain": [
       "2081      1\n",
       "2082      1\n",
       "2083      1\n",
       "2084      1\n",
       "2085      1\n",
       "         ..\n",
       "22379    12\n",
       "22380    12\n",
       "22381    12\n",
       "22382    12\n",
       "22383    12\n",
       "Name: Month, Length: 864, dtype: int64"
      ]
     },
     "execution_count": 129,
     "metadata": {},
     "output_type": "execute_result"
    }
   ],
   "source": [
    "state_dataset['Month'] = state_dataset['Month'].map(month_dic)\n",
    "state_dataset['Month']"
   ]
  },
  {
   "cell_type": "code",
   "execution_count": 130,
   "metadata": {},
   "outputs": [
    {
     "data": {
      "text/html": [
       "<div>\n",
       "<style scoped>\n",
       "    .dataframe tbody tr th:only-of-type {\n",
       "        vertical-align: middle;\n",
       "    }\n",
       "\n",
       "    .dataframe tbody tr th {\n",
       "        vertical-align: top;\n",
       "    }\n",
       "\n",
       "    .dataframe thead th {\n",
       "        text-align: right;\n",
       "    }\n",
       "</style>\n",
       "<table border=\"1\" class=\"dataframe\">\n",
       "  <thead>\n",
       "    <tr style=\"text-align: right;\">\n",
       "      <th></th>\n",
       "      <th>State</th>\n",
       "      <th>Crime</th>\n",
       "      <th>Year</th>\n",
       "      <th>Month</th>\n",
       "      <th>Occurrences</th>\n",
       "    </tr>\n",
       "  </thead>\n",
       "  <tbody>\n",
       "    <tr>\n",
       "      <th>2177</th>\n",
       "      <td>RS</td>\n",
       "      <td>Roubo de veículo</td>\n",
       "      <td>2022</td>\n",
       "      <td>11</td>\n",
       "      <td>381</td>\n",
       "    </tr>\n",
       "    <tr>\n",
       "      <th>2178</th>\n",
       "      <td>RS</td>\n",
       "      <td>Roubo seguido de morte (latrocínio)</td>\n",
       "      <td>2022</td>\n",
       "      <td>11</td>\n",
       "      <td>1</td>\n",
       "    </tr>\n",
       "    <tr>\n",
       "      <th>2179</th>\n",
       "      <td>RS</td>\n",
       "      <td>Tentativa de homicídio</td>\n",
       "      <td>2022</td>\n",
       "      <td>11</td>\n",
       "      <td>171</td>\n",
       "    </tr>\n",
       "    <tr>\n",
       "      <th>2180</th>\n",
       "      <td>RS</td>\n",
       "      <td>Estupro</td>\n",
       "      <td>2022</td>\n",
       "      <td>12</td>\n",
       "      <td>444</td>\n",
       "    </tr>\n",
       "    <tr>\n",
       "      <th>2181</th>\n",
       "      <td>RS</td>\n",
       "      <td>Furto de veículo</td>\n",
       "      <td>2022</td>\n",
       "      <td>12</td>\n",
       "      <td>781</td>\n",
       "    </tr>\n",
       "    <tr>\n",
       "      <th>2182</th>\n",
       "      <td>RS</td>\n",
       "      <td>Homicídio doloso</td>\n",
       "      <td>2022</td>\n",
       "      <td>12</td>\n",
       "      <td>149</td>\n",
       "    </tr>\n",
       "    <tr>\n",
       "      <th>2183</th>\n",
       "      <td>RS</td>\n",
       "      <td>Lesão corporal seguida de morte</td>\n",
       "      <td>2022</td>\n",
       "      <td>12</td>\n",
       "      <td>3</td>\n",
       "    </tr>\n",
       "    <tr>\n",
       "      <th>2184</th>\n",
       "      <td>RS</td>\n",
       "      <td>Roubo a instituição financeira</td>\n",
       "      <td>2022</td>\n",
       "      <td>12</td>\n",
       "      <td>0</td>\n",
       "    </tr>\n",
       "    <tr>\n",
       "      <th>2185</th>\n",
       "      <td>RS</td>\n",
       "      <td>Roubo de carga</td>\n",
       "      <td>2022</td>\n",
       "      <td>12</td>\n",
       "      <td>9</td>\n",
       "    </tr>\n",
       "    <tr>\n",
       "      <th>2186</th>\n",
       "      <td>RS</td>\n",
       "      <td>Roubo de veículo</td>\n",
       "      <td>2022</td>\n",
       "      <td>12</td>\n",
       "      <td>349</td>\n",
       "    </tr>\n",
       "    <tr>\n",
       "      <th>2187</th>\n",
       "      <td>RS</td>\n",
       "      <td>Roubo seguido de morte (latrocínio)</td>\n",
       "      <td>2022</td>\n",
       "      <td>12</td>\n",
       "      <td>4</td>\n",
       "    </tr>\n",
       "    <tr>\n",
       "      <th>2188</th>\n",
       "      <td>RS</td>\n",
       "      <td>Tentativa de homicídio</td>\n",
       "      <td>2022</td>\n",
       "      <td>12</td>\n",
       "      <td>208</td>\n",
       "    </tr>\n",
       "  </tbody>\n",
       "</table>\n",
       "</div>"
      ],
      "text/plain": [
       "     State                                Crime  Year  Month  Occurrences\n",
       "2177    RS                     Roubo de veículo  2022     11          381\n",
       "2178    RS  Roubo seguido de morte (latrocínio)  2022     11            1\n",
       "2179    RS               Tentativa de homicídio  2022     11          171\n",
       "2180    RS                              Estupro  2022     12          444\n",
       "2181    RS                     Furto de veículo  2022     12          781\n",
       "2182    RS                     Homicídio doloso  2022     12          149\n",
       "2183    RS      Lesão corporal seguida de morte  2022     12            3\n",
       "2184    RS       Roubo a instituição financeira  2022     12            0\n",
       "2185    RS                       Roubo de carga  2022     12            9\n",
       "2186    RS                     Roubo de veículo  2022     12          349\n",
       "2187    RS  Roubo seguido de morte (latrocínio)  2022     12            4\n",
       "2188    RS               Tentativa de homicídio  2022     12          208"
      ]
     },
     "execution_count": 130,
     "metadata": {},
     "output_type": "execute_result"
    }
   ],
   "source": [
    "sorted_dataset = state_dataset.sort_values(by=['Year', 'Month'])\n",
    "sorted_dataset.tail(12)"
   ]
  },
  {
   "attachments": {},
   "cell_type": "markdown",
   "metadata": {},
   "source": [
    "### Compressing the name of the crimes"
   ]
  },
  {
   "cell_type": "code",
   "execution_count": 131,
   "metadata": {},
   "outputs": [
    {
     "name": "stdout",
     "output_type": "stream",
     "text": [
      "9\n"
     ]
    },
    {
     "data": {
      "text/plain": [
       "array(['Estupro', 'Furto de veículo', 'Homicídio doloso',\n",
       "       'Lesão corporal seguida de morte',\n",
       "       'Roubo a instituição financeira', 'Roubo de carga',\n",
       "       'Roubo de veículo', 'Roubo seguido de morte (latrocínio)',\n",
       "       'Tentativa de homicídio'], dtype=object)"
      ]
     },
     "execution_count": 131,
     "metadata": {},
     "output_type": "execute_result"
    }
   ],
   "source": [
    "print(len(sorted_dataset['Crime'].unique()))\n",
    "state_dataset['Crime'].unique()"
   ]
  },
  {
   "cell_type": "code",
   "execution_count": 132,
   "metadata": {},
   "outputs": [],
   "source": [
    "crime_dic = {\n",
    "  'Estupro': 'Rape',\n",
    "  'Furto de veículo': 'Stolen vehicle',\n",
    "  'Homicídio doloso': 'Intentional homicide',\n",
    "  'Lesão corporal seguida de morte': 'Bodily injury death',\n",
    "  'Roubo a instituição financeira': 'Bank robbery',\n",
    "  'Roubo de carga': 'Cargo Theft',\n",
    "  'Roubo de veículo': 'Vehicle Theft',\n",
    "  'Roubo seguido de morte (latrocínio)': 'Robbery Murder',\n",
    "  'Tentativa de homicídio': 'Attempted Murder'\n",
    "}"
   ]
  },
  {
   "cell_type": "code",
   "execution_count": 133,
   "metadata": {},
   "outputs": [
    {
     "data": {
      "text/plain": [
       "22276                    Rape\n",
       "22277          Stolen vehicle\n",
       "22278    Intentional homicide\n",
       "22279     Bodily injury death\n",
       "22280            Bank robbery\n",
       "                 ...         \n",
       "2184             Bank robbery\n",
       "2185              Cargo Theft\n",
       "2186            Vehicle Theft\n",
       "2187           Robbery Murder\n",
       "2188         Attempted Murder\n",
       "Name: Crime, Length: 864, dtype: object"
      ]
     },
     "execution_count": 133,
     "metadata": {},
     "output_type": "execute_result"
    }
   ],
   "source": [
    "sorted_dataset['Crime'] = sorted_dataset['Crime'].map(crime_dic)\n",
    "sorted_dataset['Crime']"
   ]
  },
  {
   "cell_type": "code",
   "execution_count": 135,
   "metadata": {},
   "outputs": [
    {
     "data": {
      "text/plain": [
       "array(['Rape', 'Stolen vehicle', 'Intentional homicide',\n",
       "       'Bodily injury death', 'Bank robbery', 'Cargo Theft',\n",
       "       'Vehicle Theft', 'Robbery Murder', 'Attempted Murder'],\n",
       "      dtype=object)"
      ]
     },
     "execution_count": 135,
     "metadata": {},
     "output_type": "execute_result"
    }
   ],
   "source": [
    "sorted_dataset['Crime'].unique()"
   ]
  },
  {
   "cell_type": "code",
   "execution_count": 136,
   "metadata": {},
   "outputs": [],
   "source": [
    "sorted_dataset = pd.get_dummies(sorted_dataset, columns=['Crime'])\n",
    "sorted_dataset"
   ]
  },
  {
   "cell_type": "code",
   "execution_count": 137,
   "metadata": {},
   "outputs": [
    {
     "data": {
      "text/plain": [
       "Index(['State', 'Year', 'Month', 'Occurrences', 'Crime_Attempted Murder',\n",
       "       'Crime_Bank robbery', 'Crime_Bodily injury death', 'Crime_Cargo Theft',\n",
       "       'Crime_Intentional homicide', 'Crime_Rape', 'Crime_Robbery Murder',\n",
       "       'Crime_Stolen vehicle', 'Crime_Vehicle Theft'],\n",
       "      dtype='object')"
      ]
     },
     "execution_count": 137,
     "metadata": {},
     "output_type": "execute_result"
    }
   ],
   "source": [
    "sorted_dataset.columns"
   ]
  },
  {
   "cell_type": "code",
   "execution_count": 138,
   "metadata": {},
   "outputs": [
    {
     "data": {
      "text/html": [
       "<div>\n",
       "<style scoped>\n",
       "    .dataframe tbody tr th:only-of-type {\n",
       "        vertical-align: middle;\n",
       "    }\n",
       "\n",
       "    .dataframe tbody tr th {\n",
       "        vertical-align: top;\n",
       "    }\n",
       "\n",
       "    .dataframe thead th {\n",
       "        text-align: right;\n",
       "    }\n",
       "</style>\n",
       "<table border=\"1\" class=\"dataframe\">\n",
       "  <thead>\n",
       "    <tr style=\"text-align: right;\">\n",
       "      <th></th>\n",
       "      <th>State</th>\n",
       "      <th>Year</th>\n",
       "      <th>Month</th>\n",
       "      <th>Occurrences</th>\n",
       "      <th>Crime_Attempted Murder</th>\n",
       "      <th>Crime_Bank robbery</th>\n",
       "      <th>Crime_Bodily injury death</th>\n",
       "      <th>Crime_Cargo Theft</th>\n",
       "      <th>Crime_Intentional homicide</th>\n",
       "      <th>Crime_Rape</th>\n",
       "      <th>Crime_Robbery Murder</th>\n",
       "      <th>Crime_Stolen vehicle</th>\n",
       "      <th>Crime_Vehicle Theft</th>\n",
       "    </tr>\n",
       "  </thead>\n",
       "  <tbody>\n",
       "    <tr>\n",
       "      <th>22276</th>\n",
       "      <td>RS</td>\n",
       "      <td>2015</td>\n",
       "      <td>1</td>\n",
       "      <td>502</td>\n",
       "      <td>0</td>\n",
       "      <td>0</td>\n",
       "      <td>0</td>\n",
       "      <td>0</td>\n",
       "      <td>0</td>\n",
       "      <td>1</td>\n",
       "      <td>0</td>\n",
       "      <td>0</td>\n",
       "      <td>0</td>\n",
       "    </tr>\n",
       "    <tr>\n",
       "      <th>22277</th>\n",
       "      <td>RS</td>\n",
       "      <td>2015</td>\n",
       "      <td>1</td>\n",
       "      <td>1644</td>\n",
       "      <td>0</td>\n",
       "      <td>0</td>\n",
       "      <td>0</td>\n",
       "      <td>0</td>\n",
       "      <td>0</td>\n",
       "      <td>0</td>\n",
       "      <td>0</td>\n",
       "      <td>1</td>\n",
       "      <td>0</td>\n",
       "    </tr>\n",
       "    <tr>\n",
       "      <th>22278</th>\n",
       "      <td>RS</td>\n",
       "      <td>2015</td>\n",
       "      <td>1</td>\n",
       "      <td>230</td>\n",
       "      <td>0</td>\n",
       "      <td>0</td>\n",
       "      <td>0</td>\n",
       "      <td>0</td>\n",
       "      <td>1</td>\n",
       "      <td>0</td>\n",
       "      <td>0</td>\n",
       "      <td>0</td>\n",
       "      <td>0</td>\n",
       "    </tr>\n",
       "    <tr>\n",
       "      <th>22279</th>\n",
       "      <td>RS</td>\n",
       "      <td>2015</td>\n",
       "      <td>1</td>\n",
       "      <td>2</td>\n",
       "      <td>0</td>\n",
       "      <td>0</td>\n",
       "      <td>1</td>\n",
       "      <td>0</td>\n",
       "      <td>0</td>\n",
       "      <td>0</td>\n",
       "      <td>0</td>\n",
       "      <td>0</td>\n",
       "      <td>0</td>\n",
       "    </tr>\n",
       "    <tr>\n",
       "      <th>22280</th>\n",
       "      <td>RS</td>\n",
       "      <td>2015</td>\n",
       "      <td>1</td>\n",
       "      <td>6</td>\n",
       "      <td>0</td>\n",
       "      <td>1</td>\n",
       "      <td>0</td>\n",
       "      <td>0</td>\n",
       "      <td>0</td>\n",
       "      <td>0</td>\n",
       "      <td>0</td>\n",
       "      <td>0</td>\n",
       "      <td>0</td>\n",
       "    </tr>\n",
       "    <tr>\n",
       "      <th>...</th>\n",
       "      <td>...</td>\n",
       "      <td>...</td>\n",
       "      <td>...</td>\n",
       "      <td>...</td>\n",
       "      <td>...</td>\n",
       "      <td>...</td>\n",
       "      <td>...</td>\n",
       "      <td>...</td>\n",
       "      <td>...</td>\n",
       "      <td>...</td>\n",
       "      <td>...</td>\n",
       "      <td>...</td>\n",
       "      <td>...</td>\n",
       "    </tr>\n",
       "    <tr>\n",
       "      <th>2184</th>\n",
       "      <td>RS</td>\n",
       "      <td>2022</td>\n",
       "      <td>12</td>\n",
       "      <td>0</td>\n",
       "      <td>0</td>\n",
       "      <td>1</td>\n",
       "      <td>0</td>\n",
       "      <td>0</td>\n",
       "      <td>0</td>\n",
       "      <td>0</td>\n",
       "      <td>0</td>\n",
       "      <td>0</td>\n",
       "      <td>0</td>\n",
       "    </tr>\n",
       "    <tr>\n",
       "      <th>2185</th>\n",
       "      <td>RS</td>\n",
       "      <td>2022</td>\n",
       "      <td>12</td>\n",
       "      <td>9</td>\n",
       "      <td>0</td>\n",
       "      <td>0</td>\n",
       "      <td>0</td>\n",
       "      <td>1</td>\n",
       "      <td>0</td>\n",
       "      <td>0</td>\n",
       "      <td>0</td>\n",
       "      <td>0</td>\n",
       "      <td>0</td>\n",
       "    </tr>\n",
       "    <tr>\n",
       "      <th>2186</th>\n",
       "      <td>RS</td>\n",
       "      <td>2022</td>\n",
       "      <td>12</td>\n",
       "      <td>349</td>\n",
       "      <td>0</td>\n",
       "      <td>0</td>\n",
       "      <td>0</td>\n",
       "      <td>0</td>\n",
       "      <td>0</td>\n",
       "      <td>0</td>\n",
       "      <td>0</td>\n",
       "      <td>0</td>\n",
       "      <td>1</td>\n",
       "    </tr>\n",
       "    <tr>\n",
       "      <th>2187</th>\n",
       "      <td>RS</td>\n",
       "      <td>2022</td>\n",
       "      <td>12</td>\n",
       "      <td>4</td>\n",
       "      <td>0</td>\n",
       "      <td>0</td>\n",
       "      <td>0</td>\n",
       "      <td>0</td>\n",
       "      <td>0</td>\n",
       "      <td>0</td>\n",
       "      <td>1</td>\n",
       "      <td>0</td>\n",
       "      <td>0</td>\n",
       "    </tr>\n",
       "    <tr>\n",
       "      <th>2188</th>\n",
       "      <td>RS</td>\n",
       "      <td>2022</td>\n",
       "      <td>12</td>\n",
       "      <td>208</td>\n",
       "      <td>1</td>\n",
       "      <td>0</td>\n",
       "      <td>0</td>\n",
       "      <td>0</td>\n",
       "      <td>0</td>\n",
       "      <td>0</td>\n",
       "      <td>0</td>\n",
       "      <td>0</td>\n",
       "      <td>0</td>\n",
       "    </tr>\n",
       "  </tbody>\n",
       "</table>\n",
       "<p>864 rows × 13 columns</p>\n",
       "</div>"
      ],
      "text/plain": [
       "      State  Year  ...  Crime_Stolen vehicle  Crime_Vehicle Theft\n",
       "22276    RS  2015  ...                     0                    0\n",
       "22277    RS  2015  ...                     1                    0\n",
       "22278    RS  2015  ...                     0                    0\n",
       "22279    RS  2015  ...                     0                    0\n",
       "22280    RS  2015  ...                     0                    0\n",
       "...     ...   ...  ...                   ...                  ...\n",
       "2184     RS  2022  ...                     0                    0\n",
       "2185     RS  2022  ...                     0                    0\n",
       "2186     RS  2022  ...                     0                    1\n",
       "2187     RS  2022  ...                     0                    0\n",
       "2188     RS  2022  ...                     0                    0\n",
       "\n",
       "[864 rows x 13 columns]"
      ]
     },
     "execution_count": 138,
     "metadata": {},
     "output_type": "execute_result"
    }
   ],
   "source": [
    "sorted_dataset"
   ]
  },
  {
   "attachments": {},
   "cell_type": "markdown",
   "metadata": {},
   "source": [
    "* Criar date\n"
   ]
  }
 ],
 "metadata": {
  "kernelspec": {
   "display_name": "Python 3.9 (XPython Raw)",
   "language": "python",
   "name": "xpython-raw"
  },
  "language_info": {
   "file_extension": ".py",
   "mimetype": "text/x-python",
   "name": "python",
   "version": "3.9.13"
  },
  "orig_nbformat": 4
 },
 "nbformat": 4,
 "nbformat_minor": 2
}
